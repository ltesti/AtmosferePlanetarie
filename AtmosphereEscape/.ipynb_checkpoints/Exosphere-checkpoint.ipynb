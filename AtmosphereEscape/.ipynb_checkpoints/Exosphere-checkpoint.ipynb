{
 "cells": [
  {
   "cell_type": "markdown",
   "metadata": {},
   "source": [
    "# Atmosphere Escape Notebook\n",
    "\n",
    "This notebook contains calculations for the atmosphere escape lectures\n",
    "\n",
    "1 - Computation of the Exobase"
   ]
  },
  {
   "cell_type": "code",
   "execution_count": 1,
   "metadata": {},
   "outputs": [],
   "source": [
    "import numpy as np\n",
    "import matplotlib.pyplot as plt\n"
   ]
  },
  {
   "cell_type": "markdown",
   "metadata": {},
   "source": [
    "## Computation of Exobase\n",
    "\n",
    "The concept of Exobase is related to that of the mean free path: at the Exobase the mean free path of a molecule is comparable to the scale height. A molecule travelingaway from Earth at the Exobase will not collide with other molecules and either escape or fall back ballistically to the Exobase. Below the Exobase collisions are dominating the dynamics of molecules and the velocity distribution is then Maxwellian. Above the Exobase molecules are in ballistic orbits. \n",
    "\n",
    "To compute the Exobase we use the p and T profile of the atmosphere"
   ]
  },
  {
   "cell_type": "code",
   "execution_count": 5,
   "metadata": {},
   "outputs": [],
   "source": [
    "atm_file = 'nrlmsise00_Bologna_22Mar2022.lst'\n",
    "a = np.loadtxt(atm_file,skiprows=39)"
   ]
  },
  {
   "cell_type": "code",
   "execution_count": null,
   "metadata": {},
   "outputs": [],
   "source": []
  }
 ],
 "metadata": {
  "kernelspec": {
   "display_name": "Python 3",
   "language": "python",
   "name": "python3"
  },
  "language_info": {
   "codemirror_mode": {
    "name": "ipython",
    "version": 3
   },
   "file_extension": ".py",
   "mimetype": "text/x-python",
   "name": "python",
   "nbconvert_exporter": "python",
   "pygments_lexer": "ipython3",
   "version": "3.6.6+"
  }
 },
 "nbformat": 4,
 "nbformat_minor": 2
}
