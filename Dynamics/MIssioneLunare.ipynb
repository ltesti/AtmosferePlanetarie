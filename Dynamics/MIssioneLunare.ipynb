{
 "cells": [
  {
   "cell_type": "markdown",
   "metadata": {},
   "source": [
    "# Notebook Orbita Terrestre e Inserimento Orbita di Trasferimento Luna\n",
    "\n",
    "## Approssimativamente basato sul piano di volo Apollo\n",
    "### Notevolmente semplificato\n",
    "\n",
    "Assunzione di orbite perfette e sempre dominate da uno dei due corpi"
   ]
  },
  {
   "cell_type": "code",
   "execution_count": 5,
   "metadata": {},
   "outputs": [],
   "source": [
    "# Standard imports\n",
    "import numpy as np\n",
    "import pandas as pd\n",
    "import matplotlib.pyplot as plt"
   ]
  },
  {
   "cell_type": "markdown",
   "metadata": {},
   "source": [
    "### Costanti fondamentali assunte\n",
    "- Terra:\n",
    "    - Re = 6371 km\n",
    "    - Me = 5.97e24 kg\n",
    "    \n",
    "- Luna:\n",
    "    - Rm = 1737 km\n",
    "    - Mm = 7.34e22 kg\n",
    "    - am = 384399 km\n",
    "    - We assume circular orbit\n",
    "    \n",
    "- Low Earth Orbit altitude\n",
    "    - hleo = 167 km  (altitude of the LEO above Earth surface)\n",
    "    - hcsm = 110 km  (altitude of the CSM lunar orbit above Moon surface)"
   ]
  },
  {
   "cell_type": "code",
   "execution_count": 6,
   "metadata": {},
   "outputs": [],
   "source": [
    "Re = 6371e3 # m\n",
    "Me = 5.97e24 # kg\n",
    "Rm = 1737e3 # m\n",
    "Mm = 7.34e22 # kg\n",
    "am = 384399e3 # m\n",
    "G = 6.67e-11 # N m^2/kg\n",
    "hleo = 167e3 # m\n",
    "Rleo = Re+hleo\n",
    "hcsm = 110e3 # m\n",
    "Rcsm = Rm+hcsm\n",
    "mue = Me*G\n",
    "mum = Mm*G"
   ]
  },
  {
   "cell_type": "code",
   "execution_count": 11,
   "metadata": {},
   "outputs": [],
   "source": [
    "class CircularOrbit(object):\n",
    "    \n",
    "    def __init__(self, mu, r, m=11000.):\n",
    "        #\n",
    "        # note: m is the mass of the orbiting object in kg\n",
    "        #\n",
    "        self.mu = mu\n",
    "        self.r = r\n",
    "        self.m = m\n",
    "        self.E = self.Energy()\n",
    "        self.P = self.Period()\n",
    "        self.v = self.CircularVelocity()\n",
    "        self.vesc = self.EscapeVelocity()\n",
    "        \n",
    "    def Energy(self):\n",
    "        return -self.mu*self.m/self.r/2.0\n",
    "        \n",
    "    def Period(self):\n",
    "        return np.sqrt(4.0*np.pi*np.pi*self.r*self.r*self.r/self.mu)\n",
    "        \n",
    "    def CircularVelocity(self):\n",
    "        return np.sqrt(self.mu/self.r)\n",
    "        \n",
    "    def EscapeVelocity(self):\n",
    "        return np.sqrt(2.0*self.mu/self.r)\n",
    "        \n",
    "class TransferOrbit(CircularOrbit):\n",
    "    \n",
    "    def __init__(self, mu, ro, a, m=11000.):\n",
    "        self.mu = mu\n",
    "        self.ro = ro\n",
    "        self.a = a\n",
    "        self.m = m\n",
    "        CircularOrbit.__init__(self, self.mu, self.ro, m=self.m)\n",
    "        self.v = self.Velocity(ro)\n",
    "        \n",
    "    def Energy(self):\n",
    "        return -self.mu*self.m/(2.0*self.a)\n",
    "    \n",
    "    def Period(self):\n",
    "        return np.sqrt(4.0*np.pi*np.pi*self.a*self.a*self.a/self.mu)\n",
    "    \n",
    "    def Velocity(self, r):\n",
    "        return np.sqrt(2.0*(self.E/self.m+self.mu/r))"
   ]
  },
  {
   "cell_type": "code",
   "execution_count": 12,
   "metadata": {},
   "outputs": [],
   "source": [
    "leo = CircularOrbit(mue, Rleo)\n",
    "moon = CircularOrbit(mue, am)\n",
    "tli = TransferOrbit(mue, Rleo, (Rleo+am)/2.)\n",
    "csm = CircularOrbit(mum, Rcsm)"
   ]
  },
  {
   "cell_type": "code",
   "execution_count": 16,
   "metadata": {},
   "outputs": [
    {
     "name": "stdout",
     "output_type": "stream",
     "text": [
      "Vleo = 28095.070431722983 km/h  Pleo=87.729551641108 min   Vesc = 39732.42964036997 km/h\n",
      "Vmoon = 3664.050567195556 km/h  Pmoon=27.465620636243305 days\n",
      "Vtli = 39398.7877762471 km/h  Ptli=4.97967750825809 days\n",
      "Vcsm = 5861.11172426256 km/h  Pcsm=118.80043044722032 min   Vesc = 8288.863691036067 km/h\n"
     ]
    }
   ],
   "source": [
    "print(\"Vleo = {0} km/h  Pleo={1} min   Vesc = {2} km/h\".format(leo.v/1.e3*3600,leo.P/60.,leo.vesc/1.e3*3600))\n",
    "print(\"Vmoon = {0} km/h  Pmoon={1} days\".format(moon.v/1.e3*3600,moon.P/86400.))\n",
    "print(\"Vtli = {0} km/h  Ptli={1} days\".format(tli.v/1.e3*3600,tli.P/86400./2.))\n",
    "print(\"Vcsm = {0} km/h  Pcsm={1} min   Vesc = {2} km/h\".format(csm.v/1.e3*3600,csm.P/60.,csm.vesc/1.e3*3600))"
   ]
  },
  {
   "cell_type": "code",
   "execution_count": null,
   "metadata": {},
   "outputs": [],
   "source": []
  }
 ],
 "metadata": {
  "kernelspec": {
   "display_name": "Python 3",
   "language": "python",
   "name": "python3"
  },
  "language_info": {
   "codemirror_mode": {
    "name": "ipython",
    "version": 3
   },
   "file_extension": ".py",
   "mimetype": "text/x-python",
   "name": "python",
   "nbconvert_exporter": "python",
   "pygments_lexer": "ipython3",
   "version": "3.6.6+"
  }
 },
 "nbformat": 4,
 "nbformat_minor": 2
}
